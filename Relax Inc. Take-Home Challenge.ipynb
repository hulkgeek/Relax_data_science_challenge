{
 "cells": [
  {
   "cell_type": "markdown",
   "metadata": {},
   "source": [
    "# Relax Inc.\n",
    "<font size=\"3\">\n",
    "<br>\n",
    "Relax Inc. makes productivity and project management software that's popular with both individuals and teams. Founded by several former Facebook employees, it's considered a great company to work at.\n",
    "    \n",
    "Defining an \"adopted user\" as a user who has logged into the product on three separate days in at least one sevenday period , identify which factors predict future useradoption. The data is available as two attached CSV files:\n",
    "\n",
    "- **takehome_users.csv:** A user table ( \"takehome_users\" ) with data on 12,000 users who signed up for the product in the last two years. This table includes:\n",
    "  - **name:** the user's name\n",
    "  - **object_id:** the user's id\n",
    "  - **email:** email address\n",
    "  - **creation_source:** how their account was created. This takes on one of 5 values:\n",
    "     - PERSONAL_PROJECTS: invited to join another user's personal workspace\n",
    "     - GUEST_INVITE: invited to an organization as a guest (limited permissions)\n",
    "     - ORG_INVITE: invited to an organization (as a full member)\n",
    "     - SIGNUP: signed up via the website\n",
    "     - SIGNUP_GOOGLE_AUTH: signed up using Google Authentication (using a Google email account for their login id)\n",
    "  - **creation_time:** when they created their account\n",
    "  - **last_session_creation_time:** unix timestamp of last login\n",
    "  - **opted_in_to_mailing_list:** whether they have opted into receiving marketing emails\n",
    "  - **enabled_for_marketing_drip:** whether they are on the regular marketing email drip\n",
    "  - **org_id:** the organization (group of users) they belong to\n",
    "  - **invited_by_user_id:** which user invited them to join (if applicable).\n",
    "\n",
    "\n",
    "- **takehome_user_engagement.csv:** A usage summary table that has a row for each day that a user logged into the product.\n",
    "</font>"
   ]
  },
  {
   "cell_type": "markdown",
   "metadata": {},
   "source": [
    "## Importing modules and data files and cleaning\n",
    "<font size=\"3\">\n",
    "<br>\n",
    "We start we importing the engagement dataset and aggregate the data in a way that a binary label represeting adopted users can be asssigned to each user id.\n",
    "</font>"
   ]
  },
  {
   "cell_type": "code",
   "execution_count": 1,
   "metadata": {},
   "outputs": [],
   "source": [
    "import numpy as np\n",
    "import pandas as pd\n",
    "import matplotlib.pyplot as plt"
   ]
  },
  {
   "cell_type": "code",
   "execution_count": 166,
   "metadata": {
    "scrolled": true
   },
   "outputs": [
    {
     "data": {
      "text/html": [
       "<div>\n",
       "<style scoped>\n",
       "    .dataframe tbody tr th:only-of-type {\n",
       "        vertical-align: middle;\n",
       "    }\n",
       "\n",
       "    .dataframe tbody tr th {\n",
       "        vertical-align: top;\n",
       "    }\n",
       "\n",
       "    .dataframe thead th {\n",
       "        text-align: right;\n",
       "    }\n",
       "</style>\n",
       "<table border=\"1\" class=\"dataframe\">\n",
       "  <thead>\n",
       "    <tr style=\"text-align: right;\">\n",
       "      <th></th>\n",
       "      <th>time_stamp</th>\n",
       "      <th>user_id</th>\n",
       "      <th>visited</th>\n",
       "    </tr>\n",
       "  </thead>\n",
       "  <tbody>\n",
       "    <tr>\n",
       "      <th>0</th>\n",
       "      <td>2014-04-22 03:53:30</td>\n",
       "      <td>1</td>\n",
       "      <td>1</td>\n",
       "    </tr>\n",
       "    <tr>\n",
       "      <th>1</th>\n",
       "      <td>2013-11-15 03:45:04</td>\n",
       "      <td>2</td>\n",
       "      <td>1</td>\n",
       "    </tr>\n",
       "    <tr>\n",
       "      <th>2</th>\n",
       "      <td>2013-11-29 03:45:04</td>\n",
       "      <td>2</td>\n",
       "      <td>1</td>\n",
       "    </tr>\n",
       "    <tr>\n",
       "      <th>3</th>\n",
       "      <td>2013-12-09 03:45:04</td>\n",
       "      <td>2</td>\n",
       "      <td>1</td>\n",
       "    </tr>\n",
       "    <tr>\n",
       "      <th>4</th>\n",
       "      <td>2013-12-25 03:45:04</td>\n",
       "      <td>2</td>\n",
       "      <td>1</td>\n",
       "    </tr>\n",
       "  </tbody>\n",
       "</table>\n",
       "</div>"
      ],
      "text/plain": [
       "           time_stamp  user_id  visited\n",
       "0 2014-04-22 03:53:30        1        1\n",
       "1 2013-11-15 03:45:04        2        1\n",
       "2 2013-11-29 03:45:04        2        1\n",
       "3 2013-12-09 03:45:04        2        1\n",
       "4 2013-12-25 03:45:04        2        1"
      ]
     },
     "execution_count": 166,
     "metadata": {},
     "output_type": "execute_result"
    }
   ],
   "source": [
    "# Read takehome_user_engagement.csv into a dataframe and convert time-stamps to datetime type.\n",
    "engage_df = pd.read_csv(\"takehome_user_engagement.csv\", encoding='latin', parse_dates=['time_stamp'])\n",
    "engage_df.head()"
   ]
  },
  {
   "cell_type": "markdown",
   "metadata": {},
   "source": [
    "<font size=\"3\">\n",
    "We define a custom function as an aggregate function to check whether a user is adopted.\n",
    "</font>"
   ]
  },
  {
   "cell_type": "code",
   "execution_count": 167,
   "metadata": {
    "scrolled": false
   },
   "outputs": [],
   "source": [
    "from datetime import datetime, timedelta\n",
    "\n",
    "def isAdopted(tstamp):\n",
    "    \"\"\" \n",
    "    Return 1 if tstamp Series of user indicates that the user \n",
    "    has logged into the product on three separate days in \n",
    "    at least one sevenday period.\n",
    "    \n",
    "    tstamp = datetime Series\n",
    "    \n",
    "    \"\"\"\n",
    "    tstamp = tstamp.apply(datetime.date).drop_duplicates() # make sure the timestamp are from different dates.\n",
    "    tstamp = tstamp.sort_values().reset_index(drop=True) # sort the dates in ascending order\n",
    "    \n",
    "    # For any date, count how many follwing date exisits in a 7-day period. If it's greater than 3, return 1.\n",
    "    for idx, date_time in tstamp.iteritems():\n",
    "        if sum(tstamp[idx:] < date_time + timedelta(days=7)) >= 3:\n",
    "            return 1\n",
    "    return 0"
   ]
  },
  {
   "cell_type": "markdown",
   "metadata": {},
   "source": [
    "<font size=\"3\">\n",
    "A new dataframe containing user ids and their labels: isAdopted_df\n",
    "</font>"
   ]
  },
  {
   "cell_type": "code",
   "execution_count": 168,
   "metadata": {
    "scrolled": true
   },
   "outputs": [
    {
     "data": {
      "text/html": [
       "<div>\n",
       "<style scoped>\n",
       "    .dataframe tbody tr th:only-of-type {\n",
       "        vertical-align: middle;\n",
       "    }\n",
       "\n",
       "    .dataframe tbody tr th {\n",
       "        vertical-align: top;\n",
       "    }\n",
       "\n",
       "    .dataframe thead th {\n",
       "        text-align: right;\n",
       "    }\n",
       "</style>\n",
       "<table border=\"1\" class=\"dataframe\">\n",
       "  <thead>\n",
       "    <tr style=\"text-align: right;\">\n",
       "      <th></th>\n",
       "      <th>is_adopted</th>\n",
       "    </tr>\n",
       "    <tr>\n",
       "      <th>object_id</th>\n",
       "      <th></th>\n",
       "    </tr>\n",
       "  </thead>\n",
       "  <tbody>\n",
       "    <tr>\n",
       "      <th>1</th>\n",
       "      <td>0</td>\n",
       "    </tr>\n",
       "    <tr>\n",
       "      <th>2</th>\n",
       "      <td>1</td>\n",
       "    </tr>\n",
       "    <tr>\n",
       "      <th>3</th>\n",
       "      <td>0</td>\n",
       "    </tr>\n",
       "    <tr>\n",
       "      <th>4</th>\n",
       "      <td>0</td>\n",
       "    </tr>\n",
       "    <tr>\n",
       "      <th>5</th>\n",
       "      <td>0</td>\n",
       "    </tr>\n",
       "  </tbody>\n",
       "</table>\n",
       "</div>"
      ],
      "text/plain": [
       "           is_adopted\n",
       "object_id            \n",
       "1                   0\n",
       "2                   1\n",
       "3                   0\n",
       "4                   0\n",
       "5                   0"
      ]
     },
     "execution_count": 168,
     "metadata": {},
     "output_type": "execute_result"
    }
   ],
   "source": [
    "# Create a new dataframe for user ids as the index \n",
    "# and their adoption status (adopted = 1) as a column\n",
    "isAdopted_series = engage_df.groupby('user_id').time_stamp.agg(isAdopted)\n",
    "isAdopted_df = pd.DataFrame(isAdopted_series).reset_index()\n",
    "isAdopted_df.rename(columns={\"time_stamp\": \"is_adopted\",\"user_id\":\"object_id\"}, inplace=True)\n",
    "isAdopted_df.index = isAdopted_df.object_id\n",
    "isAdopted_df.drop(columns='object_id', inplace=True)\n",
    "isAdopted_df.head()"
   ]
  },
  {
   "cell_type": "markdown",
   "metadata": {},
   "source": [
    "<font size=\"3\">\n",
    "There are only 1602 adopted users (out of 12000 total). Therefore, we are dealing with an imbalanced dataset.\n",
    "</font>"
   ]
  },
  {
   "cell_type": "code",
   "execution_count": 169,
   "metadata": {
    "scrolled": false
   },
   "outputs": [
    {
     "name": "stdout",
     "output_type": "stream",
     "text": [
      "Number of adopted users: 1602\n"
     ]
    }
   ],
   "source": [
    "print(\"Number of adopted users:\", sum(isAdopted_df.is_adopted))"
   ]
  },
  {
   "cell_type": "markdown",
   "metadata": {},
   "source": [
    "<font size=\"3\">\n",
    "We can then import the users dataset and join the two dataframes so we can have one table with labels added.\n",
    "</font>"
   ]
  },
  {
   "cell_type": "code",
   "execution_count": 245,
   "metadata": {
    "scrolled": true
   },
   "outputs": [
    {
     "name": "stdout",
     "output_type": "stream",
     "text": [
      "<class 'pandas.core.frame.DataFrame'>\n",
      "Int64Index: 12000 entries, 1 to 12000\n",
      "Data columns (total 9 columns):\n",
      "creation_time                 12000 non-null datetime64[ns]\n",
      "name                          12000 non-null object\n",
      "email                         12000 non-null object\n",
      "creation_source               12000 non-null object\n",
      "last_session_creation_time    8823 non-null datetime64[ns]\n",
      "opted_in_to_mailing_list      12000 non-null int64\n",
      "enabled_for_marketing_drip    12000 non-null int64\n",
      "org_id                        12000 non-null int64\n",
      "invited_by_user_id            6417 non-null float64\n",
      "dtypes: datetime64[ns](2), float64(1), int64(3), object(3)\n",
      "memory usage: 937.5+ KB\n"
     ]
    }
   ],
   "source": [
    "# Read takehome_user_engagement.csv into a dataframe and convert time-stamps to datetime type.\n",
    "users_df = pd.read_csv(\"takehome_users.csv\", encoding='latin', index_col='object_id', \n",
    "                        parse_dates=['creation_time'])\n",
    "\n",
    "# parse_date can't parse 'last_session_creation_time' column. Will need to do it manually and take care of NaNs.\n",
    "users_df['last_session_creation_time'] = users_df['last_session_creation_time'].astype(float)\n",
    "users_df['last_session_creation_time'] = users_df['last_session_creation_time'].apply(\n",
    "    lambda x: datetime.fromtimestamp(x) if not np.isnan(x) else np.nan)\n",
    "\n",
    "users_df.info()"
   ]
  },
  {
   "cell_type": "code",
   "execution_count": 246,
   "metadata": {},
   "outputs": [],
   "source": [
    "users_df = users_df.join(isAdopted_df, on=\"object_id\")"
   ]
  },
  {
   "cell_type": "markdown",
   "metadata": {},
   "source": [
    "<font size=\"3\">\n",
    "    \n",
    "**Missing values**: As we can see, there are some missing values last_session_creation_time and invited_by_user_id features. It's worth noting that even the label column is_adopted has null values as not all the 12000 users were in the engagement dataset.\n",
    "    \n",
    "**Email addresses**: While there are some categorical features that need special attentions, we can also observe that not all the email addresses are valid. While we will drop email column for our analysis, but one can use the email domains and that whether they are valid as extra features derived from email addresses.\n",
    "</font>"
   ]
  },
  {
   "cell_type": "code",
   "execution_count": 247,
   "metadata": {
    "scrolled": false
   },
   "outputs": [
    {
     "data": {
      "text/html": [
       "<div>\n",
       "<style scoped>\n",
       "    .dataframe tbody tr th:only-of-type {\n",
       "        vertical-align: middle;\n",
       "    }\n",
       "\n",
       "    .dataframe tbody tr th {\n",
       "        vertical-align: top;\n",
       "    }\n",
       "\n",
       "    .dataframe thead th {\n",
       "        text-align: right;\n",
       "    }\n",
       "</style>\n",
       "<table border=\"1\" class=\"dataframe\">\n",
       "  <thead>\n",
       "    <tr style=\"text-align: right;\">\n",
       "      <th></th>\n",
       "      <th>creation_time</th>\n",
       "      <th>name</th>\n",
       "      <th>email</th>\n",
       "      <th>creation_source</th>\n",
       "      <th>last_session_creation_time</th>\n",
       "      <th>opted_in_to_mailing_list</th>\n",
       "      <th>enabled_for_marketing_drip</th>\n",
       "      <th>org_id</th>\n",
       "      <th>invited_by_user_id</th>\n",
       "      <th>is_adopted</th>\n",
       "    </tr>\n",
       "    <tr>\n",
       "      <th>object_id</th>\n",
       "      <th></th>\n",
       "      <th></th>\n",
       "      <th></th>\n",
       "      <th></th>\n",
       "      <th></th>\n",
       "      <th></th>\n",
       "      <th></th>\n",
       "      <th></th>\n",
       "      <th></th>\n",
       "      <th></th>\n",
       "    </tr>\n",
       "  </thead>\n",
       "  <tbody>\n",
       "    <tr>\n",
       "      <th>11996</th>\n",
       "      <td>2013-09-06 06:14:15</td>\n",
       "      <td>Meier Sophia</td>\n",
       "      <td>SophiaMeier@gustr.com</td>\n",
       "      <td>ORG_INVITE</td>\n",
       "      <td>2013-09-05 23:14:15</td>\n",
       "      <td>0</td>\n",
       "      <td>0</td>\n",
       "      <td>89</td>\n",
       "      <td>8263.0</td>\n",
       "      <td>0.0</td>\n",
       "    </tr>\n",
       "    <tr>\n",
       "      <th>11997</th>\n",
       "      <td>2013-01-10 18:28:37</td>\n",
       "      <td>Fisher Amelie</td>\n",
       "      <td>AmelieFisher@gmail.com</td>\n",
       "      <td>SIGNUP_GOOGLE_AUTH</td>\n",
       "      <td>2013-01-15 10:28:37</td>\n",
       "      <td>0</td>\n",
       "      <td>0</td>\n",
       "      <td>200</td>\n",
       "      <td>NaN</td>\n",
       "      <td>0.0</td>\n",
       "    </tr>\n",
       "    <tr>\n",
       "      <th>11998</th>\n",
       "      <td>2014-04-27 12:45:16</td>\n",
       "      <td>Haynes Jake</td>\n",
       "      <td>JakeHaynes@cuvox.de</td>\n",
       "      <td>GUEST_INVITE</td>\n",
       "      <td>2014-04-27 05:45:16</td>\n",
       "      <td>1</td>\n",
       "      <td>1</td>\n",
       "      <td>83</td>\n",
       "      <td>8074.0</td>\n",
       "      <td>0.0</td>\n",
       "    </tr>\n",
       "    <tr>\n",
       "      <th>11999</th>\n",
       "      <td>2012-05-31 11:55:59</td>\n",
       "      <td>Faber Annett</td>\n",
       "      <td>mhaerzxp@iuxiw.com</td>\n",
       "      <td>PERSONAL_PROJECTS</td>\n",
       "      <td>2012-06-02 04:55:59</td>\n",
       "      <td>0</td>\n",
       "      <td>0</td>\n",
       "      <td>6</td>\n",
       "      <td>NaN</td>\n",
       "      <td>0.0</td>\n",
       "    </tr>\n",
       "    <tr>\n",
       "      <th>12000</th>\n",
       "      <td>2014-01-26 08:57:12</td>\n",
       "      <td>Lima Thaís</td>\n",
       "      <td>ThaisMeloLima@hotmail.com</td>\n",
       "      <td>SIGNUP</td>\n",
       "      <td>2014-01-26 00:57:12</td>\n",
       "      <td>0</td>\n",
       "      <td>1</td>\n",
       "      <td>0</td>\n",
       "      <td>NaN</td>\n",
       "      <td>0.0</td>\n",
       "    </tr>\n",
       "  </tbody>\n",
       "</table>\n",
       "</div>"
      ],
      "text/plain": [
       "                creation_time           name                      email  \\\n",
       "object_id                                                                 \n",
       "11996     2013-09-06 06:14:15   Meier Sophia      SophiaMeier@gustr.com   \n",
       "11997     2013-01-10 18:28:37  Fisher Amelie     AmelieFisher@gmail.com   \n",
       "11998     2014-04-27 12:45:16    Haynes Jake        JakeHaynes@cuvox.de   \n",
       "11999     2012-05-31 11:55:59   Faber Annett         mhaerzxp@iuxiw.com   \n",
       "12000     2014-01-26 08:57:12     Lima Thaís  ThaisMeloLima@hotmail.com   \n",
       "\n",
       "              creation_source last_session_creation_time  \\\n",
       "object_id                                                  \n",
       "11996              ORG_INVITE        2013-09-05 23:14:15   \n",
       "11997      SIGNUP_GOOGLE_AUTH        2013-01-15 10:28:37   \n",
       "11998            GUEST_INVITE        2014-04-27 05:45:16   \n",
       "11999       PERSONAL_PROJECTS        2012-06-02 04:55:59   \n",
       "12000                  SIGNUP        2014-01-26 00:57:12   \n",
       "\n",
       "           opted_in_to_mailing_list  enabled_for_marketing_drip  org_id  \\\n",
       "object_id                                                                 \n",
       "11996                             0                           0      89   \n",
       "11997                             0                           0     200   \n",
       "11998                             1                           1      83   \n",
       "11999                             0                           0       6   \n",
       "12000                             0                           1       0   \n",
       "\n",
       "           invited_by_user_id  is_adopted  \n",
       "object_id                                  \n",
       "11996                  8263.0         0.0  \n",
       "11997                     NaN         0.0  \n",
       "11998                  8074.0         0.0  \n",
       "11999                     NaN         0.0  \n",
       "12000                     NaN         0.0  "
      ]
     },
     "execution_count": 247,
     "metadata": {},
     "output_type": "execute_result"
    }
   ],
   "source": [
    "users_df.tail()"
   ]
  },
  {
   "cell_type": "markdown",
   "metadata": {},
   "source": [
    "<font size=\"3\">\n",
    "\n",
    "**Categorical features:** While 'creation_source' is an obvious 5-level categorical feature, we can also define  'org_id' and 'invited_by_user_id' as categories with a few levels as follows:\n",
    "\n",
    "Let's classify Organization IDs ('org_id') based the number of adopted users they are representing. Maybe, some orgs are more influential than others: some orgs have had zero adopted users while some other have had 16 adopted users. We can defind 4 tiers of organizations: org1, org2, org3, org4 with org4 being the most active orgs.\n",
    "</font>"
   ]
  },
  {
   "cell_type": "code",
   "execution_count": 248,
   "metadata": {
    "scrolled": false
   },
   "outputs": [
    {
     "data": {
      "text/plain": [
       "array([11., 14., 15., 16., 12., 10.,  8.,  6.,  5.,  7.,  9.,  4.,  2.,\n",
       "        3.,  1.,  0.])"
      ]
     },
     "execution_count": 248,
     "metadata": {},
     "output_type": "execute_result"
    }
   ],
   "source": [
    "users_df.groupby('org_id').is_adopted.sum().unique()"
   ]
  },
  {
   "cell_type": "code",
   "execution_count": 250,
   "metadata": {},
   "outputs": [],
   "source": [
    "org_group = users_df.groupby('org_id').is_adopted.sum()\n",
    "\n",
    "map_dict={0:\"org1\", 1:\"org1\", 2:\"org1\", 3:\"org1\",\n",
    "          4:\"org2\", 5:\"org2\", 6:\"org2\", 7:\"org2\",\n",
    "          8:\"org3\", 9:\"org3\", 10:\"org3\", 11:\"org3\",\n",
    "          12:\"org4\", 14:\"org4\", 15:\"org4\", 16:\"org4\"}\n",
    "\n",
    "users_df['org_id'] = users_df.org_id.apply(lambda x: map_dict[org_group[x]])"
   ]
  },
  {
   "cell_type": "code",
   "execution_count": 329,
   "metadata": {},
   "outputs": [
    {
     "data": {
      "image/png": "[encoded data removed]",
      "text/plain": [
       "<Figure size 720x360 with 1 Axes>"
      ]
     },
     "metadata": {
      "needs_background": "light"
     },
     "output_type": "display_data"
    }
   ],
   "source": [
    "(users_df.groupby('org_id').is_adopted.sum()/\n",
    " users_df.groupby('org_id').org_id.count()).plot.bar(color='green', figsize=(10,5))\n",
    "\n",
    "plt.title(\"Adoption ratio by org_id tier\");"
   ]
  },
  {
   "cell_type": "markdown",
   "metadata": {},
   "source": [
    "<font size=\"3\">\n",
    "Similar story with 'invited_by_user_id'. Some users are more active in inviting others than their peers:\n",
    "</font>"
   ]
  },
  {
   "cell_type": "code",
   "execution_count": 249,
   "metadata": {
    "scrolled": true
   },
   "outputs": [
    {
     "data": {
      "text/plain": [
       "array([0., 1., 2., 3., 4.])"
      ]
     },
     "execution_count": 249,
     "metadata": {},
     "output_type": "execute_result"
    }
   ],
   "source": [
    "users_df.groupby('invited_by_user_id').is_adopted.sum().unique()"
   ]
  },
  {
   "cell_type": "code",
   "execution_count": 251,
   "metadata": {},
   "outputs": [],
   "source": [
    "inviting_group = users_df.groupby('invited_by_user_id').is_adopted.sum()\n",
    "users_df['invited_by_user_id'] = users_df.invited_by_user_id.apply(\n",
    "    lambda x: inviting_group[x] if not np.isnan(x) else -1) # add category level -1 for NaN values."
   ]
  },
  {
   "cell_type": "code",
   "execution_count": 323,
   "metadata": {},
   "outputs": [
    {
     "data": {
      "image/png": "[encoded data removed]",
      "text/plain": [
       "<Figure size 720x360 with 1 Axes>"
      ]
     },
     "metadata": {
      "needs_background": "light"
     },
     "output_type": "display_data"
    }
   ],
   "source": [
    "(users_df.groupby('invited_by_user_id').is_adopted.sum()/\n",
    " users_df.groupby('invited_by_user_id').invited_by_user_id.count()).plot.bar(color='green', figsize=(10,5))\n",
    "\n",
    "plt.title(\"Adoption ratio by invited_by_user_id tier\");"
   ]
  },
  {
   "cell_type": "markdown",
   "metadata": {},
   "source": [
    "<font size=\"3\">\n",
    "Let's also check the adoption rate for different types of creation source:\n",
    "</font>"
   ]
  },
  {
   "cell_type": "code",
   "execution_count": 328,
   "metadata": {
    "scrolled": false
   },
   "outputs": [
    {
     "data": {
      "image/png": "[encoded data removed]",
      "text/plain": [
       "<Figure size 720x360 with 1 Axes>"
      ]
     },
     "metadata": {
      "needs_background": "light"
     },
     "output_type": "display_data"
    }
   ],
   "source": [
    "(users_df.groupby('creation_source').is_adopted.sum()/\n",
    " users_df.groupby('creation_source').creation_source.count()).plot.bar(color='green', figsize=(10,5))\n",
    "\n",
    "plt.title(\"Adoption ratio by creation_source\");"
   ]
  },
  {
   "cell_type": "markdown",
   "metadata": {},
   "source": [
    "<font size=\"3\">\n",
    "\n",
    "**New features**:\n",
    "While 'creation_time' and 'last_session_creation_time' seem not useful for any machine learning pipeline processing, we can derive two new featues out of them:\n",
    "    \n",
    "- 'last-first_login': The number of hours between the last sign-in and the account creation.\n",
    "- 'recency': an index (in number of hours) of how recent was the last sign-in. We could subtract 'last_session_creation_time' from any reference time. In this case, we chose the last sign-in in the dataset as the reference. The choice of reference should not change the analysis much.\n",
    "</font>"
   ]
  },
  {
   "cell_type": "code",
   "execution_count": 252,
   "metadata": {},
   "outputs": [],
   "source": [
    "users_df['last-first_login'] = (users_df['last_session_creation_time'] - \n",
    "                                users_df['creation_time']).astype('timedelta64[h]')"
   ]
  },
  {
   "cell_type": "code",
   "execution_count": 327,
   "metadata": {},
   "outputs": [
    {
     "data": {
      "image/png": "[encoded data removed]",
      "text/plain": [
       "<Figure size 720x360 with 2 Axes>"
      ]
     },
     "metadata": {
      "needs_background": "light"
     },
     "output_type": "display_data"
    }
   ],
   "source": [
    "users_df['last-first_login'].hist(by=users_df['is_adopted'], \n",
    "                                      bins=20, density=False, \n",
    "                                      figsize=(10,5), color='green');\n",
    "plt.suptitle(\"Histogram of the number of hours between the last sign-in and the account creation \" \\\n",
    "             \"by unadopted (0) vs. adopted users (1)\");\n"
   ]
  },
  {
   "cell_type": "code",
   "execution_count": 298,
   "metadata": {},
   "outputs": [],
   "source": [
    "users_df['recency'] = (max(users_df['last_session_creation_time']) - \n",
    "                                users_df['last_session_creation_time']).astype('timedelta64[h]')"
   ]
  },
  {
   "cell_type": "code",
   "execution_count": 325,
   "metadata": {},
   "outputs": [
    {
     "data": {
      "image/png": "[encoded data removed]",
      "text/plain": [
       "<Figure size 720x360 with 2 Axes>"
      ]
     },
     "metadata": {
      "needs_background": "light"
     },
     "output_type": "display_data"
    }
   ],
   "source": [
    "users_df['recency'].hist(by=users_df['is_adopted'], \n",
    "                                      bins=20, density=False, \n",
    "                                      figsize=(10,5), color='green');\n",
    "plt.suptitle(\"Histogram of the recency (in number of hours) by unadopted (0) vs. adopted users (1)\");"
   ]
  },
  {
   "cell_type": "markdown",
   "metadata": {},
   "source": [
    "<font size=\"3\">\n",
    "    \n",
    "<i> **Important Note: From the exploratory data analysis above, we expect the newly derived features exhibit high predictive power.** </i>\n",
    "</font>"
   ]
  },
  {
   "cell_type": "markdown",
   "metadata": {},
   "source": [
    "<font size=\"3\">\n",
    "\n",
    "**Dataframe for the predictive modelling: model_df**\n",
    "    \n",
    "Next we drop  the features we won't use and convert the categorical features to one-hot encoding format.\n",
    "</font>"
   ]
  },
  {
   "cell_type": "code",
   "execution_count": 299,
   "metadata": {},
   "outputs": [],
   "source": [
    "columns_to_drop = ['creation_time', 'name', 'email', 'last_session_creation_time']\n",
    "model_df = users_df.drop(columns=columns_to_drop)"
   ]
  },
  {
   "cell_type": "code",
   "execution_count": 300,
   "metadata": {},
   "outputs": [],
   "source": [
    "categorical_columns = ['creation_source', 'org_id', 'invited_by_user_id']\n",
    "model_df = pd.get_dummies(data=model_df, columns=categorical_columns)"
   ]
  },
  {
   "cell_type": "markdown",
   "metadata": {},
   "source": [
    "<font size=\"3\">\n",
    "Drop user IDs with no is_adopted labels:\n",
    "</font>"
   ]
  },
  {
   "cell_type": "code",
   "execution_count": 301,
   "metadata": {
    "scrolled": false
   },
   "outputs": [
    {
     "name": "stdout",
     "output_type": "stream",
     "text": [
      "<class 'pandas.core.frame.DataFrame'>\n",
      "Int64Index: 8823 entries, 1 to 12000\n",
      "Data columns (total 20 columns):\n",
      "opted_in_to_mailing_list              8823 non-null int64\n",
      "enabled_for_marketing_drip            8823 non-null int64\n",
      "is_adopted                            8823 non-null float64\n",
      "last-first_login                      8823 non-null float64\n",
      "recency                               8823 non-null float64\n",
      "creation_source_GUEST_INVITE          8823 non-null uint8\n",
      "creation_source_ORG_INVITE            8823 non-null uint8\n",
      "creation_source_PERSONAL_PROJECTS     8823 non-null uint8\n",
      "creation_source_SIGNUP                8823 non-null uint8\n",
      "creation_source_SIGNUP_GOOGLE_AUTH    8823 non-null uint8\n",
      "org_id_org1                           8823 non-null uint8\n",
      "org_id_org2                           8823 non-null uint8\n",
      "org_id_org3                           8823 non-null uint8\n",
      "org_id_org4                           8823 non-null uint8\n",
      "invited_by_user_id_-1.0               8823 non-null uint8\n",
      "invited_by_user_id_0.0                8823 non-null uint8\n",
      "invited_by_user_id_1.0                8823 non-null uint8\n",
      "invited_by_user_id_2.0                8823 non-null uint8\n",
      "invited_by_user_id_3.0                8823 non-null uint8\n",
      "invited_by_user_id_4.0                8823 non-null uint8\n",
      "dtypes: float64(3), int64(2), uint8(15)\n",
      "memory usage: 542.8 KB\n"
     ]
    }
   ],
   "source": [
    "model_df.dropna(inplace=True)\n",
    "model_df.info()"
   ]
  },
  {
   "cell_type": "markdown",
   "metadata": {},
   "source": [
    "## Predictive Modelling: Gradient Boosting Classifier\n",
    "\n",
    "<font size=\"3\">\n",
    "<br>\n",
    "Given the proven performance of Gradient Boosting classifiers for probelms with imbalanced datasets in particular, we will use this model. Also, we choose $F_{1}$ score as the metric for choosing the best hyper-parameters when cross-validating. The reason for this choise is that it is a function of recall and precision for postive lablels (=1) as opposed to accuracy that shows an artificially a high number by classifying all users' adoptions as zeros.\n",
    "    \n",
    "We also use startified tarin-test split of 75%:25% ratio.\n",
    "\n",
    "\n",
    "</font>"
   ]
  },
  {
   "cell_type": "code",
   "execution_count": 302,
   "metadata": {},
   "outputs": [],
   "source": [
    "from sklearn.metrics import classification_report, confusion_matrix\n",
    "from sklearn.ensemble import GradientBoostingClassifier\n",
    "from sklearn.model_selection import GridSearchCV, train_test_split\n",
    "\n",
    "y = model_df.pop('is_adopted')\n",
    "X = model_df\n",
    "\n",
    "X_train, X_test, y_train, y_test = train_test_split(X, y, test_size = 0.25, random_state=50, stratify=y)"
   ]
  },
  {
   "cell_type": "code",
   "execution_count": 303,
   "metadata": {
    "scrolled": true
   },
   "outputs": [
    {
     "name": "stdout",
     "output_type": "stream",
     "text": [
      "Tuned parameters :\n",
      " {'learning_rate': 0.05, 'max_depth': 5, 'n_estimators': 60} \n",
      "Achieved score 0.9285161020170692\n"
     ]
    }
   ],
   "source": [
    "gb = GradientBoostingClassifier(max_features='sqrt')\n",
    "grid = {'n_estimators':[40,45,50,55,60,65,70],'learning_rate':[.01,0.02,0.03,0.04,0.05,0.06,0.07],\n",
    "              'max_depth':[1,2,3,4,5,6,7]}\n",
    "\n",
    "cv_gb = GridSearchCV(estimator=gb, param_grid=parametergra, scoring='f1',cv=5)\n",
    "cv_gb.fit(X_train,y_train)\n",
    "best_para_gra = cv_gb.best_params_\n",
    "best_acc_gra = cv_gb.best_score_\n",
    "\n",
    "print('Tuned parameters :\\n',cv_gb.best_params_,'\\nAchieved score', cv_gb.best_score_)"
   ]
  },
  {
   "cell_type": "code",
   "execution_count": 304,
   "metadata": {
    "scrolled": true
   },
   "outputs": [
    {
     "name": "stdout",
     "output_type": "stream",
     "text": [
      "Confusion matrix of the best estimator:\n",
      "[[1788   17]\n",
      " [  40  361]]\n",
      "\n",
      "F_1 score (test dataset): 0.926829268292683\n"
     ]
    }
   ],
   "source": [
    "from sklearn.metrics import f1_score, accuracy_score\n",
    "print(\"Confusion matrix of the best estimator:\")\n",
    "y_pred = cv_gb.best_estimator_.predict(X_test)\n",
    "print(confusion_matrix(y_test, y_pred))\n",
    "print(\"\\nF_1 score (test dataset):\",f1_score(y_test, y_pred))"
   ]
  },
  {
   "cell_type": "markdown",
   "metadata": {},
   "source": [
    "## Model performance\n",
    "<font size=\"3\">\n",
    "<br>\n",
    "A very high $F_1$ score of 0.93 for both validation and test set and 97% accuracy for the test set. Also it correctly predicted 90% of adopted users. Therefore, we can rely on this model to get a sense of what features are importants.\n",
    "</font>"
   ]
  },
  {
   "cell_type": "code",
   "execution_count": 308,
   "metadata": {
    "scrolled": true
   },
   "outputs": [
    {
     "name": "stdout",
     "output_type": "stream",
     "text": [
      "\n",
      "Accuracy score (test dataset): 0.9741613780598368\n"
     ]
    }
   ],
   "source": [
    "print(\"\\nAccuracy score (test dataset):\",accuracy_score(y_test, y_pred))"
   ]
  },
  {
   "cell_type": "markdown",
   "metadata": {},
   "source": [
    "## Importance of the features"
   ]
  },
  {
   "cell_type": "code",
   "execution_count": 309,
   "metadata": {
    "scrolled": false
   },
   "outputs": [
    {
     "data": {
      "image/png": "[encoded data removed]",
      "text/plain": [
       "<Figure size 720x360 with 1 Axes>"
      ]
     },
     "metadata": {
      "needs_background": "light"
     },
     "output_type": "display_data"
    }
   ],
   "source": [
    "importance_df = pd.DataFrame(cv_gb.best_estimator_.feature_importances_, \n",
    "                 index=X.columns, columns=['feature_importance']).sort_values(by='feature_importance', \n",
    "                                                                              ascending=False)\n",
    "\n",
    "importance_df.plot.bar(color='green', figsize=(10,5))\n",
    "plt.title('Relative importance of features');"
   ]
  },
  {
   "cell_type": "markdown",
   "metadata": {},
   "source": [
    "## Conclusion\n",
    "<font size=\"3\">\n",
    "<br>\n",
    "\n",
    "The duarion between the last sign-in and the account creation dates as well as recency of the logins are the most important actors predict future user adoption, followed by referrals by the different group of the current users. We found out the aforementioned conclusion by reading and cleaning the datasets, deriving new features, and building a reliable predictive model with 0.93 $F_1$ and 97% accuracy scores. \n",
    "\n",
    "\n",
    "</font>"
   ]
  },
  {
   "cell_type": "code",
   "execution_count": null,
   "metadata": {},
   "outputs": [],
   "source": []
  }
 ],
 "metadata": {
  "kernelspec": {
   "display_name": "Python 3",
   "language": "python",
   "name": "python3"
  },
  "language_info": {
   "codemirror_mode": {
    "name": "ipython",
    "version": 3
   },
   "file_extension": ".py",
   "mimetype": "text/x-python",
   "name": "python",
   "nbconvert_exporter": "python",
   "pygments_lexer": "ipython3",
   "version": "3.7.3"
  }
 },
 "nbformat": 4,
 "nbformat_minor": 2
}
